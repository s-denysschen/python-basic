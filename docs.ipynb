{
 "cells": [
  {
   "attachments": {},
   "cell_type": "markdown",
   "metadata": {},
   "source": [
    "## Excel, Word, and PDF Documents\n",
    "### Reading Excel Spreadsheets\n",
    "Python's openpyxl module allows you to read and write Excel xlsx/xlsm/xltx/xltm files.\n",
    "\n",
    "To use the openpyxl module, you first need to install it:"
   ]
  },
  {
   "cell_type": "code",
   "execution_count": null,
   "metadata": {
    "vscode": {
     "languageId": "plaintext"
    }
   },
   "outputs": [],
   "source": [
    "pip install openpyxl"
   ]
  },
  {
   "attachments": {},
   "cell_type": "markdown",
   "metadata": {},
   "source": [
    "Here's an example of reading an Excel spreadsheet:"
   ]
  },
  {
   "cell_type": "code",
   "execution_count": null,
   "metadata": {
    "vscode": {
     "languageId": "plaintext"
    }
   },
   "outputs": [],
   "source": [
    "from openpyxl import load_workbook\n",
    "\n",
    "# Load a workbook\n",
    "wb = load_workbook('mydocument.xlsx')\n",
    "\n",
    "# Select a worksheet\n",
    "ws = wb['Sheet1']\n",
    "\n",
    "# Print the value of a cell\n",
    "print(ws['A1'].value)"
   ]
  },
  {
   "attachments": {},
   "cell_type": "markdown",
   "metadata": {},
   "source": [
    "This code reads the Excel document 'mydocument.xlsx', selects the worksheet 'Sheet1', and prints the value of cell A1."
   ]
  },
  {
   "attachments": {},
   "cell_type": "markdown",
   "metadata": {},
   "source": [
    "### Editing Excel Spreadsheets\n",
    "You can also use the openpyxl module to edit Excel spreadsheets.\n",
    "\n",
    "Here's an example of editing an Excel spreadsheet:"
   ]
  },
  {
   "cell_type": "code",
   "execution_count": null,
   "metadata": {
    "vscode": {
     "languageId": "plaintext"
    }
   },
   "outputs": [],
   "source": [
    "from openpyxl import load_workbook\n",
    "\n",
    "# Load a workbook\n",
    "wb = load_workbook('mydocument.xlsx')\n",
    "\n",
    "# Select a worksheet\n",
    "ws = wb['Sheet1']\n",
    "\n",
    "# Change the value of a cell\n",
    "ws['A1'] = 'Hello, world!'\n",
    "\n",
    "# Save the workbook\n",
    "wb.save('mydocument.xlsx')"
   ]
  },
  {
   "attachments": {},
   "cell_type": "markdown",
   "metadata": {},
   "source": [
    "This code edits the Excel document 'mydocument.xlsx', changes the value of cell A1 to 'Hello, world!', and saves the document."
   ]
  },
  {
   "attachments": {},
   "cell_type": "markdown",
   "metadata": {},
   "source": [
    "### Reading and Editing PDFs\n",
    "#### Reading PDFs\n",
    "Python's PyPDF2 module allows you to read PDF files.\n",
    "\n",
    "To use the PyPDF2 module, you first need to install it:"
   ]
  },
  {
   "cell_type": "code",
   "execution_count": null,
   "metadata": {
    "vscode": {
     "languageId": "plaintext"
    }
   },
   "outputs": [],
   "source": [
    "pip install PyPDF2"
   ]
  },
  {
   "attachments": {},
   "cell_type": "markdown",
   "metadata": {},
   "source": [
    "Here's an example of reading a PDF:"
   ]
  },
  {
   "cell_type": "code",
   "execution_count": null,
   "metadata": {
    "vscode": {
     "languageId": "plaintext"
    }
   },
   "outputs": [],
   "source": [
    "import PyPDF2\n",
    "\n",
    "# Open a PDF\n",
    "with open('mypdf.pdf', 'rb') as file:\n",
    "    reader = PyPDF2.PdfFileReader(file)\n",
    "\n",
    "    # Print the content of the first page\n",
    "    print(reader.getPage(0).extractText())"
   ]
  },
  {
   "attachments": {},
   "cell_type": "markdown",
   "metadata": {},
   "source": [
    "This code reads the PDF document 'mypdf.pdf' and prints the content of the first page.\n",
    "\n",
    "#### Editing PDFs\n",
    "\n",
    "You can use PyPDF2 to perform simple operations like splitting, merging, and rotating pages. However, PyPDF2 cannot write text to a PDF. For that purpose, you'd need a module like reportlab."
   ]
  },
  {
   "cell_type": "code",
   "execution_count": null,
   "metadata": {
    "vscode": {
     "languageId": "plaintext"
    }
   },
   "outputs": [],
   "source": [
    "pip install reportlab"
   ]
  },
  {
   "attachments": {},
   "cell_type": "markdown",
   "metadata": {},
   "source": [
    "Then you can use the following code to create a PDF:"
   ]
  },
  {
   "cell_type": "code",
   "execution_count": null,
   "metadata": {
    "vscode": {
     "languageId": "plaintext"
    }
   },
   "outputs": [],
   "source": [
    "from reportlab.pdfgen import canvas\n",
    "\n",
    "# Create a new PDF file\n",
    "c = canvas.Canvas(\"new_pdf.pdf\")\n",
    "\n",
    "# Write some text\n",
    "c.drawString(100, 750, \"Hello, world!\")\n",
    "\n",
    "# Save the PDF\n",
    "c.save()"
   ]
  },
  {
   "attachments": {},
   "cell_type": "markdown",
   "metadata": {},
   "source": [
    "In this example, a new PDF file named \"new_pdf.pdf\" is created. The text \"Hello, world!\" is written to the file at the coordinates (100, 750) from the bottom-left corner of the page.\n",
    "\n",
    "reportlab can only create new PDFs and write to them. If you want to edit existing PDFs, you will need to use a combination of PyPDF2 (to read the existing PDF) and reportlab (to write the new content). Here's an example:"
   ]
  },
  {
   "cell_type": "code",
   "execution_count": null,
   "metadata": {
    "vscode": {
     "languageId": "plaintext"
    }
   },
   "outputs": [],
   "source": [
    "from PyPDF2 import PdfFileReader, PdfFileWriter\n",
    "from reportlab.pdfgen import canvas\n",
    "from reportlab.lib.pagesizes import letter\n",
    "from io import BytesIO\n",
    "\n",
    "# Load the existing PDF\n",
    "with open(\"existing_pdf.pdf\", \"rb\") as file_handle:\n",
    "    pdf = PdfFileReader(file_handle)\n",
    "    page = pdf.getPage(0)\n",
    "    packet = BytesIO()\n",
    "\n",
    "    # Create a new PDF with Reportlab\n",
    "    can = canvas.Canvas(packet, pagesize=letter)\n",
    "    can.drawString(100, 750, \"Hello, world!\")\n",
    "    can.save()\n",
    "\n",
    "    # Move to the beginning of the StringIO buffer\n",
    "    packet.seek(0)\n",
    "    new_pdf = PdfFileReader(packet)\n",
    "\n",
    "    # Add the \"watermark\" (which is the new pdf) on the existing page\n",
    "    page.mergePage(new_pdf.getPage(0))\n",
    "    output = PdfFileWriter()\n",
    "\n",
    "    # Add the page from the existing PDF to the output file\n",
    "    output.addPage(page)\n",
    "\n",
    "    # Write the output file\n",
    "    with open(\"output.pdf\", \"wb\") as output_pdf:\n",
    "        output.write(output_pdf)"
   ]
  },
  {
   "attachments": {},
   "cell_type": "markdown",
   "metadata": {},
   "source": [
    "In this example, the existing PDF file named \"existing_pdf.pdf\" is opened. A new PDF file with the text \"Hello, world!\" is created with reportlab and overlaid on the existing PDF. The result is saved to \"output.pdf\". Note that the original PDF file is unchanged; a new PDF file is created with the modifications."
   ]
  },
  {
   "attachments": {},
   "cell_type": "markdown",
   "metadata": {},
   "source": [
    "### Reading and Editing Word Documents\n",
    "\n",
    "Python's python-docx module allows you to read and write Word documents.\n",
    "\n",
    "To use the python-docx module, you first need to install it:"
   ]
  },
  {
   "cell_type": "code",
   "execution_count": null,
   "metadata": {
    "vscode": {
     "languageId": "plaintext"
    }
   },
   "outputs": [],
   "source": [
    "pip install python-docx"
   ]
  },
  {
   "attachments": {},
   "cell_type": "markdown",
   "metadata": {},
   "source": [
    "Here's an example of reading a Word document:"
   ]
  },
  {
   "cell_type": "code",
   "execution_count": null,
   "metadata": {
    "vscode": {
     "languageId": "plaintext"
    }
   },
   "outputs": [],
   "source": [
    "from docx import Document\n",
    "\n",
    "# Open a Word document\n",
    "doc = Document('mydocument.docx')\n",
    "\n",
    "# Print the content of the first paragraph\n",
    "print(doc.paragraphs[0].text)"
   ]
  },
  {
   "attachments": {},
   "cell_type": "markdown",
   "metadata": {},
   "source": [
    "Here's an example of editing a Word document:"
   ]
  },
  {
   "cell_type": "code",
   "execution_count": null,
   "metadata": {
    "vscode": {
     "languageId": "plaintext"
    }
   },
   "outputs": [],
   "source": [
    "from docx import Document\n",
    "\n",
    "# Open a Word document\n",
    "doc = Document('mydocument.docx')\n",
    "\n",
    "# Add a paragraph\n",
    "doc.add_paragraph('Hello, world!')\n",
    "\n",
    "# Save the document\n",
    "doc.save('mydocument.docx')"
   ]
  },
  {
   "attachments": {},
   "cell_type": "markdown",
   "metadata": {},
   "source": [
    "These code snippets read and edit the Word document 'mydocument.docx' respectively."
   ]
  }
 ],
 "metadata": {
  "language_info": {
   "name": "python"
  },
  "orig_nbformat": 4
 },
 "nbformat": 4,
 "nbformat_minor": 2
}
