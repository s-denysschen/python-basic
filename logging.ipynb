{
 "cells": [
  {
   "attachments": {},
   "cell_type": "markdown",
   "metadata": {},
   "source": [
    "## Debugging\n",
    "### The raise and assert Statements\n",
    "#### The raise Statement\n",
    "\n",
    "Sometimes, you might need to create an error yourself, possibly to notify other parts of your program that something has gone wrong. Python allows you to create exceptions using the raise statement."
   ]
  },
  {
   "cell_type": "code",
   "execution_count": null,
   "metadata": {
    "vscode": {
     "languageId": "plaintext"
    }
   },
   "outputs": [],
   "source": [
    "# Raise an exception\n",
    "raise Exception('This is an error message.')"
   ]
  },
  {
   "attachments": {},
   "cell_type": "markdown",
   "metadata": {},
   "source": [
    "#### The assert Statement\n",
    "\n",
    "An assertion is a sanity check to make sure your code isn’t doing something obviously wrong. If the sanity check fails, then an AssertionError exception is raised."
   ]
  },
  {
   "cell_type": "code",
   "execution_count": null,
   "metadata": {
    "vscode": {
     "languageId": "plaintext"
    }
   },
   "outputs": [],
   "source": [
    "# Assert statement\n",
    "assert 2 + 2 == 4, 'Math still works.'"
   ]
  },
  {
   "attachments": {},
   "cell_type": "markdown",
   "metadata": {},
   "source": [
    "### Logging\n",
    "\n",
    "Python's logging module provides a way to display log messages. Log messages provide a way to understand the activities of a running program.\n",
    "\n",
    "To use the logging module, you first need to import it:"
   ]
  },
  {
   "cell_type": "code",
   "execution_count": null,
   "metadata": {
    "vscode": {
     "languageId": "plaintext"
    }
   },
   "outputs": [],
   "source": [
    "import logging"
   ]
  },
  {
   "attachments": {},
   "cell_type": "markdown",
   "metadata": {},
   "source": [
    "You can use the logging.debug(), logging.info(), logging.warning(), logging.error(), and logging.critical() functions to display log messages:"
   ]
  },
  {
   "cell_type": "code",
   "execution_count": null,
   "metadata": {
    "vscode": {
     "languageId": "plaintext"
    }
   },
   "outputs": [],
   "source": [
    "# Display a log message\n",
    "logging.debug('This is a debug message.')"
   ]
  },
  {
   "attachments": {},
   "cell_type": "markdown",
   "metadata": {},
   "source": [
    "### Using the Debugger\n",
    "\n",
    "Python's pdb module provides a debugger. You can use the debugger to step through your code, examine values of variables, and find where your code is going wrong.\n",
    "\n",
    "To use the debugger, you first need to import the pdb module:"
   ]
  },
  {
   "cell_type": "code",
   "execution_count": null,
   "metadata": {
    "vscode": {
     "languageId": "plaintext"
    }
   },
   "outputs": [],
   "source": [
    "import pdb"
   ]
  },
  {
   "attachments": {},
   "cell_type": "markdown",
   "metadata": {},
   "source": [
    "You can set a breakpoint in your code using the pdb.set_trace() function. When your code reaches this point, it will pause and let you step through the code."
   ]
  },
  {
   "cell_type": "code",
   "execution_count": null,
   "metadata": {
    "vscode": {
     "languageId": "plaintext"
    }
   },
   "outputs": [],
   "source": [
    "# Set a breakpoint\n",
    "pdb.set_trace()"
   ]
  },
  {
   "attachments": {},
   "cell_type": "markdown",
   "metadata": {},
   "source": [
    "When your code is paused, you can use various commands to navigate through your code. Some of the most useful commands are:\n",
    "\n",
    "* n (next): Execute the next line.\n",
    "* s (step): Step into a function call.\n",
    "* c (continue): Continue execution until the next breakpoint.\n",
    "* p (print): Print the value of an expression."
   ]
  }
 ],
 "metadata": {
  "language_info": {
   "name": "python"
  },
  "orig_nbformat": 4
 },
 "nbformat": 4,
 "nbformat_minor": 2
}
