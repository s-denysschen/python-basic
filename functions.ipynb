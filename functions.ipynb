{
 "cells": [
  {
   "attachments": {},
   "cell_type": "markdown",
   "metadata": {},
   "source": [
    "## Functions\n",
    "### Built-in Functions\n",
    "Python comes with many built-in functions. Here are a few examples:\n",
    "* print(): This function prints the specified message to the screen.\n",
    "* input(): This function waits for user input.\n",
    "* len(): This function returns the length (the number of items) of an object.\n",
    "* type(): This function returns the type of an object.\n",
    "* max(): This function returns the largest item in an iterable or the largest of two or more arguments.\n",
    "* min(): This function returns the smallest item in an iterable or the smallest of two or more arguments.\n",
    "* abs(): This function returns the absolute value of a number.\n",
    "* sum(): This function takes an iterable and an optional start value (default is 0), and adds up the iterable's elements from left to right, then adds the start value.\n",
    "\n",
    "Here's some code illustrating these functions:"
   ]
  },
  {
   "cell_type": "code",
   "execution_count": null,
   "metadata": {},
   "outputs": [],
   "source": [
    "# print\n",
    "print(\"Hello, world!\")\n",
    "\n",
    "# input\n",
    "name = input(\"What's your name? \")\n",
    "\n",
    "# len\n",
    "name_length = len(name)\n",
    "print(f\"Your name has {name_length} characters.\")\n",
    "\n",
    "# type\n",
    "name_type = type(name)\n",
    "print(f\"Your name is of type {name_type}.\")\n",
    "\n",
    "numbers = [1, 2, 3, 4, 5]\n",
    "\n",
    "# max\n",
    "print(max(numbers)) # prints: 5\n",
    "\n",
    "# min\n",
    "print(min(numbers)) # prints: 1\n",
    "\n",
    "# abs\n",
    "print(abs(-10)) # prints: 10\n",
    "\n",
    "# sum\n",
    "print(sum(numbers)) # prints: 15"
   ]
  },
  {
   "attachments": {},
   "cell_type": "markdown",
   "metadata": {},
   "source": [
    "### Writing Custom Functions\n",
    "Custom functions are great for when you need to perform a specific task multiple times in your code. Here's how you create one:"
   ]
  },
  {
   "cell_type": "code",
   "execution_count": null,
   "metadata": {},
   "outputs": [],
   "source": [
    "def greet(name):\n",
    "    print(f\"Hello, {name}!\")"
   ]
  },
  {
   "attachments": {},
   "cell_type": "markdown",
   "metadata": {},
   "source": [
    "In this code:\n",
    "* def is a keyword that starts the function definition.\n",
    "* greet is the name of the function.\n",
    "* name is a parameter - a value that the function expects you to pass when you call it.\n",
    "* print(f\"Hello, {name}!\") is the body of the function - the code that runs when you call the function.\n",
    "\n",
    "To call this function:"
   ]
  },
  {
   "cell_type": "code",
   "execution_count": null,
   "metadata": {},
   "outputs": [],
   "source": [
    "greet(\"Sjarko\")"
   ]
  },
  {
   "attachments": {},
   "cell_type": "markdown",
   "metadata": {},
   "source": [
    "##### Nested Functions\n",
    "\n",
    "A nested function is a function defined inside another function. They're useful when you want to encapsulate some logic that you only need to use within another function."
   ]
  },
  {
   "cell_type": "code",
   "execution_count": null,
   "metadata": {},
   "outputs": [],
   "source": [
    "def outer_function(name):\n",
    "    # This is a nested function\n",
    "    def inner_function():\n",
    "        return name.title() # Capitalize initial\n",
    "        \n",
    "    greeting = f\"Hello, {inner_function()}!\"\n",
    "    print(greeting)\n",
    "\n",
    "outer_function(\"sjarko\")"
   ]
  },
  {
   "attachments": {},
   "cell_type": "markdown",
   "metadata": {},
   "source": [
    "In this code:\n",
    "* inner_function() is a nested function. It's defined inside outer_function().\n",
    "* inner_function() makes the first character of name uppercase.\n",
    "* outer_function(name) calls the outer function, which in turn calls inner_function(), and prints \"Hello, [name]!\"."
   ]
  },
  {
   "attachments": {},
   "cell_type": "markdown",
   "metadata": {},
   "source": [
    "#### Recursive functions\n",
    "A recursive function is a function that calls itself during its execution. This enables the function to be repeated several times, as it can call itself during its execution. Recursive functions are often used to solve problems that can be broken down into simpler, repetitive tasks.\n",
    "\n",
    "Here is an example of a recursive function that calculates the factorial of a number. Factorial of a number is the product of all positive integers up to that number. For instance, the factorial of 5 (denoted as 5!) is 1 * 2 * 3 * 4 * 5 = 120."
   ]
  },
  {
   "cell_type": "code",
   "execution_count": null,
   "metadata": {},
   "outputs": [],
   "source": [
    "def factorial(n):\n",
    "    # Base case: 1! = 1\n",
    "    if n == 1:\n",
    "        return 1\n",
    "    # Recursive case: n! = n * (n-1)!\n",
    "    else:\n",
    "        return n * factorial(n-1)\n",
    "\n",
    "print(factorial(5))  # Output: 120"
   ]
  },
  {
   "attachments": {},
   "cell_type": "markdown",
   "metadata": {},
   "source": [
    "In this code:\n",
    "* The function factorial(n) takes an integer n as input.\n",
    "* If n is 1 (the base case), the function returns 1. This is the simplest form of the problem, where we know the answer without needing any further recursive calls.\n",
    "* If n is not 1, the function calls itself to calculate the factorial of n-1, then multiplies this result by n to give the factorial of n.\n",
    "\n",
    "It's important to have a base case in a recursive function to ensure that the recursion stops at some point. Without a base case, a recursive function would call itself indefinitely."
   ]
  },
  {
   "attachments": {},
   "cell_type": "markdown",
   "metadata": {},
   "source": [
    "## Global and Local Scope\n",
    "### Scope\n",
    "The scope of a variable is the part of a program where that variable can be accessed. There are two types of scope:\n",
    "* Global scope: The main body of a script. A variable defined in the global scope is a global variable, and can be accessed anywhere in the code.\n",
    "* Local scope: Inside a function. A variable defined in the local scope is a local variable, and can only be accessed inside that function.\n",
    "\n",
    "Here's an example:"
   ]
  },
  {
   "cell_type": "code",
   "execution_count": null,
   "metadata": {},
   "outputs": [],
   "source": [
    "# This is a global variable\n",
    "greeting = \"Hello\"\n",
    "\n",
    "def greet(name):\n",
    "    # This is a local variable\n",
    "    exclamation = \"!\"\n",
    "    print(f\"{greeting}, {name}{exclamation}\")\n",
    "\n",
    "greet(\"Sjarko\")"
   ]
  },
  {
   "attachments": {},
   "cell_type": "markdown",
   "metadata": {},
   "source": [
    "In this code:\n",
    "\n",
    "* greeting is a global variable. It can be accessed anywhere, including inside the greet() function.\n",
    "* exclamation is a local variable. It can only be accessed inside the greet() function. Trying to access the exclamation variable outside of the function will raise a NameError."
   ]
  }
 ],
 "metadata": {
  "kernelspec": {
   "display_name": "base",
   "language": "python",
   "name": "python3"
  },
  "language_info": {
   "codemirror_mode": {
    "name": "ipython",
    "version": 3
   },
   "file_extension": ".py",
   "mimetype": "text/x-python",
   "name": "python",
   "nbconvert_exporter": "python",
   "pygments_lexer": "ipython3",
   "version": "3.9.12"
  },
  "orig_nbformat": 4
 },
 "nbformat": 4,
 "nbformat_minor": 2
}
