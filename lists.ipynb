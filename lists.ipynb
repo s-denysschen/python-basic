{
 "cells": [
  {
   "attachments": {},
   "cell_type": "markdown",
   "metadata": {},
   "source": [
    "## Lists\n",
    "### List Datatype\n",
    "A list in Python is an ordered collection of items, which can be of any type. Items in a list are enclosed in square brackets [] and separated by commas. Here's an example:"
   ]
  },
  {
   "cell_type": "code",
   "execution_count": null,
   "metadata": {},
   "outputs": [],
   "source": [
    "# This is a list\n",
    "fruits = [\"apple\", \"banana\", \"cherry\", \"date\"]"
   ]
  },
  {
   "attachments": {},
   "cell_type": "markdown",
   "metadata": {},
   "source": [
    "In this code, fruits is a list that contains four strings.\n",
    "\n",
    "To access an item in a list, you use its index. Indices in Python start from 0, so to get the first fruit (\"apple\"), you would write fruits[0]."
   ]
  },
  {
   "attachments": {},
   "cell_type": "markdown",
   "metadata": {},
   "source": [
    "### For Loops with Lists\n",
    "You can use a for loop to go through each item in a list:"
   ]
  },
  {
   "cell_type": "code",
   "execution_count": null,
   "metadata": {},
   "outputs": [],
   "source": [
    "# Print each fruit\n",
    "for fruit in fruits:\n",
    "    print(fruit)"
   ]
  },
  {
   "attachments": {},
   "cell_type": "markdown",
   "metadata": {},
   "source": [
    "### Multiple Assignment\n",
    "\n",
    "You can assign values to multiple variables at once using a list:"
   ]
  },
  {
   "cell_type": "code",
   "execution_count": null,
   "metadata": {},
   "outputs": [],
   "source": [
    "# Assign values to variables\n",
    "fruit1, fruit2, fruit3, fruit4 = fruits"
   ]
  },
  {
   "attachments": {},
   "cell_type": "markdown",
   "metadata": {},
   "source": [
    "Now fruit1 is \"apple\", fruit2 is \"banana\", etc.\n",
    "\n",
    "### Augmented Operators\n",
    "\n",
    "You can use augmented operators like += to modify list items:"
   ]
  },
  {
   "cell_type": "code",
   "execution_count": null,
   "metadata": {},
   "outputs": [],
   "source": [
    "# Start with an empty list\n",
    "numbers = []\n",
    "\n",
    "# Add numbers to the list\n",
    "for i in range(5):\n",
    "    numbers += [i]\n",
    "\n",
    "print(numbers)"
   ]
  },
  {
   "attachments": {},
   "cell_type": "markdown",
   "metadata": {},
   "source": [
    "### List Methods\n",
    "List methods are built-in functions that you can use with lists.\n",
    "\n",
    "Here are a few list methods:\n",
    "* append(): Adds an item to the end of the list.\n",
    "* insert(): Adds an item at a specified position.\n",
    "* remove(): Removes a specified item.\n",
    "* pop(): Removes the item at a specified position.\n",
    "\n",
    "Here's some code illustrating these methods:"
   ]
  },
  {
   "cell_type": "code",
   "execution_count": null,
   "metadata": {},
   "outputs": [],
   "source": [
    "# Start with an empty list\n",
    "fruits = []\n",
    "\n",
    "# Add fruits\n",
    "fruits.append(\"apple\")\n",
    "fruits.append(\"banana\")\n",
    "fruits.insert(1, \"cherry\")\n",
    "\n",
    "# Remove and pop fruits\n",
    "fruits.remove(\"apple\")\n",
    "fruits.pop(1)\n",
    "\n",
    "print(fruits)"
   ]
  },
  {
   "attachments": {},
   "cell_type": "markdown",
   "metadata": {},
   "source": [
    "### List-String Similarities\n",
    "Strings and lists in Python are both sequences, so they share several features:\n",
    "* You can access their items using indices (\"hello\"[0] and [1, 2, 3][0]).\n",
    "* You can slice them to get sub-sequences (\"hello\"[1:3] and [1, 2, 3][1:3]).\n",
    "* You can use len() to get their length (len(\"hello\") and len([1, 2, 3])).\n",
    "\n",
    "However, there's a key difference: strings are immutable (you can't change their characters), but lists are mutable (you can change their items)."
   ]
  }
 ],
 "metadata": {
  "kernelspec": {
   "display_name": "base",
   "language": "python",
   "name": "python3"
  },
  "language_info": {
   "codemirror_mode": {
    "name": "ipython",
    "version": 3
   },
   "file_extension": ".py",
   "mimetype": "text/x-python",
   "name": "python",
   "nbconvert_exporter": "python",
   "pygments_lexer": "ipython3",
   "version": "3.9.12"
  },
  "orig_nbformat": 4
 },
 "nbformat": 4,
 "nbformat_minor": 2
}
