{
 "cells": [
  {
   "attachments": {},
   "cell_type": "markdown",
   "metadata": {},
   "source": [
    "## Advanced Strings\n",
    "Python supports several ways of writing strings:\n",
    "* Single quotes: 'hello'\n",
    "* Double quotes: \"hello\"\n",
    "* Triple quotes: '''hello''' or \"\"\"hello\"\"\"\n",
    "* You can use either single or double quotes for short strings. If your string contains a quote character, you can use the other type of quote to define it:"
   ]
  },
  {
   "cell_type": "code",
   "execution_count": null,
   "metadata": {},
   "outputs": [],
   "source": [
    "# This string contains a single quote\n",
    "string = \"It's a beautiful day.\""
   ]
  },
  {
   "attachments": {},
   "cell_type": "markdown",
   "metadata": {},
   "source": [
    "Triple quotes are used for multiline strings:"
   ]
  },
  {
   "cell_type": "code",
   "execution_count": null,
   "metadata": {},
   "outputs": [],
   "source": [
    "# This is a multiline string\n",
    "string = \"\"\"Hello,\n",
    "world!\"\"\""
   ]
  },
  {
   "attachments": {},
   "cell_type": "markdown",
   "metadata": {},
   "source": [
    "### Escape Sequences\n",
    "You can use escape sequences to insert special characters into a string. An escape sequence starts with a backslash \\ followed by the character you want to insert.\n",
    "Here are some common escape sequences:\n",
    "* \\': Single quote\n",
    "* \\\": Double quote\n",
    "* \\n: Newline\n",
    "* \\t: Tab\n",
    "\n",
    "Here's an example:"
   ]
  },
  {
   "cell_type": "code",
   "execution_count": null,
   "metadata": {},
   "outputs": [],
   "source": [
    "# This string uses escape sequences\n",
    "string = \"She said: \\n\\'My creator exclaimed out loud - \\\"Hello, \\tworld!\\\"\\'\"\n",
    "print(string)"
   ]
  },
  {
   "attachments": {},
   "cell_type": "markdown",
   "metadata": {},
   "source": [
    "### String Methods\n",
    "Here are a few string methods:\n",
    "\n",
    "* `upper()`: Returns a copy of the string with all the characters in uppercase.\n",
    "* lower(): Returns a copy of the string with all the characters in lowercase.\n",
    "* find(): Returns the index of the first occurrence of a substring. If the substring is not found, returns -1.\n",
    "* replace(): Returns a copy of the string with all occurrences of a substring replaced with another substring.\n",
    "\n",
    "Here's some code illustrating these methods:"
   ]
  },
  {
   "cell_type": "code",
   "execution_count": null,
   "metadata": {},
   "outputs": [],
   "source": [
    "# Start with a string\n",
    "string = \"Hello, world!\"\n",
    "\n",
    "# Use string methods\n",
    "upper_string = string.upper()\n",
    "lower_string = string.lower()\n",
    "index = string.find(\"world\")\n",
    "replaced_string = string.replace(\"world\", \"Sjarko\")"
   ]
  },
  {
   "attachments": {},
   "cell_type": "markdown",
   "metadata": {},
   "source": [
    "### String Formatting\n",
    "\n",
    "You can use the format() method to insert variables into a string. The index of the variable in the call to the format() method corresponds to the index of the empty tuple to fill inside of the string:"
   ]
  },
  {
   "cell_type": "code",
   "execution_count": null,
   "metadata": {},
   "outputs": [],
   "source": [
    "# Use the format method\n",
    "name = \"Sjarko\"\n",
    "age = 27\n",
    "greeting = \"Hello, {}, you are {} years old\".format(name,age)\n",
    "print(greeting)"
   ]
  },
  {
   "attachments": {},
   "cell_type": "markdown",
   "metadata": {},
   "source": [
    "You can also cast non-string variable to string type with the str() funtion, then use simple addition to insert the variable into the string:"
   ]
  },
  {
   "cell_type": "code",
   "execution_count": null,
   "metadata": {},
   "outputs": [],
   "source": [
    "# Use the addition method\n",
    "name = \"Sjarko\"\n",
    "age = 27\n",
    "greeting = \"Hello, \" + name + \", you are \" + str(age) + \" years old.\"\n",
    "print(greeting)"
   ]
  },
  {
   "attachments": {},
   "cell_type": "markdown",
   "metadata": {},
   "source": [
    "f-strings are a more convenient way to format strings:"
   ]
  },
  {
   "cell_type": "code",
   "execution_count": null,
   "metadata": {},
   "outputs": [],
   "source": [
    "# Use an f-string with an expression\n",
    "name = \"Sjarko\"\n",
    "age = 27\n",
    "greeting = f\"Hello, {name}, you are {age} years old.\"\n",
    "print(greeting)"
   ]
  }
 ],
 "metadata": {
  "kernelspec": {
   "display_name": "base",
   "language": "python",
   "name": "python3"
  },
  "language_info": {
   "codemirror_mode": {
    "name": "ipython",
    "version": 3
   },
   "file_extension": ".py",
   "mimetype": "text/x-python",
   "name": "python",
   "nbconvert_exporter": "python",
   "pygments_lexer": "ipython3",
   "version": "3.9.12"
  },
  "orig_nbformat": 4
 },
 "nbformat": 4,
 "nbformat_minor": 2
}
