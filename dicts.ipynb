{
 "cells": [
  {
   "attachments": {},
   "cell_type": "markdown",
   "metadata": {},
   "source": [
    "## Dictionaries\n",
    "### Dictionary Data Type\n",
    "A dictionary in Python is an unordered collection of items. Unlike lists, which are indexed by a range of numbers, dictionaries are indexed by keys, which can be any immutable type.\n",
    "Dictionaries are enclosed by curly braces {}. Each item in a dictionary is a pair of a key and a value. The key and value are separated by a colon :. \n",
    "\n",
    "Different items are separated by commas. Here's an example:"
   ]
  },
  {
   "cell_type": "code",
   "execution_count": null,
   "metadata": {},
   "outputs": [],
   "source": [
    "# This is a dictionary\n",
    "employee = {\n",
    "    \"name\": \"Sjarko\",\n",
    "    \"age\": 27,\n",
    "    \"title\": \"Data scientist\"\n",
    "}"
   ]
  },
  {
   "attachments": {},
   "cell_type": "markdown",
   "metadata": {},
   "source": [
    "To access a value in a dictionary, you use its key. So to get an employee's age, you would write employee[\"age\"].\n",
    "\n",
    "### Adding and Modifying Dictionary Items\n",
    "\n",
    "You can add an item to a dictionary by assigning a value to a new key:"
   ]
  },
  {
   "cell_type": "code",
   "execution_count": null,
   "metadata": {},
   "outputs": [],
   "source": [
    "# Add a new item\n",
    "employee[\"department\"] = \"Customer Service\""
   ]
  },
  {
   "attachments": {},
   "cell_type": "markdown",
   "metadata": {},
   "source": [
    "You can modify an item in a dictionary by assigning a new value to its key:"
   ]
  },
  {
   "cell_type": "code",
   "execution_count": null,
   "metadata": {},
   "outputs": [],
   "source": [
    "# Modify an item\n",
    "employee[\"title\"] = \"Machine learning engineer\""
   ]
  },
  {
   "attachments": {},
   "cell_type": "markdown",
   "metadata": {},
   "source": [
    "You can remove an item from a dictionary using the del statement:"
   ]
  },
  {
   "cell_type": "code",
   "execution_count": null,
   "metadata": {},
   "outputs": [],
   "source": [
    "# Remove an item\n",
    "del employee[\"age\"]"
   ]
  },
  {
   "attachments": {},
   "cell_type": "markdown",
   "metadata": {},
   "source": [
    "### Data Structures\n",
    "A data structure is a collection of data elements that is structured in some way. Lists, tuples, sets, and dictionaries are all types of data structures in Python. Different data structures are suitable for different tasks.\n",
    "A data structure can also contain other data structures. For example, our employee dictionary can contain a list:"
   ]
  },
  {
   "cell_type": "code",
   "execution_count": null,
   "metadata": {},
   "outputs": [],
   "source": [
    "# This is a dictionary with a list\n",
    "employee = {\n",
    "    \"name\": \"Alice\",\n",
    "    \"department\": \"Sales\",\n",
    "    \"targets\": [90, 95, 88]\n",
    "}"
   ]
  },
  {
   "attachments": {},
   "cell_type": "markdown",
   "metadata": {},
   "source": [
    "A dictionary can also contain other dictionaries. This is known as a nested dictionary. For example, we could have a dictionary of employees:"
   ]
  },
  {
   "cell_type": "code",
   "execution_count": null,
   "metadata": {},
   "outputs": [],
   "source": [
    "# This is a dictionary of dictionaries\n",
    "employee = {\n",
    "    \"Alice\": {\n",
    "        \"age\": 72,\n",
    "        \"targets\": [90, 95, 88]\n",
    "    },\n",
    "    \"Sjarko\": {\n",
    "        \"age\": 27,\n",
    "        \"projects\": ['NLP', 'MLOps', 'CVM']\n",
    "    }\n",
    "}"
   ]
  },
  {
   "attachments": {},
   "cell_type": "markdown",
   "metadata": {},
   "source": [
    "To access a value in a nested dictionary, you use the keys of the outer and inner dictionaries. "
   ]
  },
  {
   "cell_type": "code",
   "execution_count": null,
   "metadata": {},
   "outputs": [],
   "source": [
    "employee[\"Sjarko\"][\"projects\"]"
   ]
  }
 ],
 "metadata": {
  "kernelspec": {
   "display_name": "base",
   "language": "python",
   "name": "python3"
  },
  "language_info": {
   "codemirror_mode": {
    "name": "ipython",
    "version": 3
   },
   "file_extension": ".py",
   "mimetype": "text/x-python",
   "name": "python",
   "nbconvert_exporter": "python",
   "pygments_lexer": "ipython3",
   "version": "3.9.12"
  },
  "orig_nbformat": 4
 },
 "nbformat": 4,
 "nbformat_minor": 2
}
