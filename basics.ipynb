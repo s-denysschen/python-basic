{
 "cells": [
  {
   "attachments": {},
   "cell_type": "markdown",
   "metadata": {},
   "source": [
    "## The Basics of Python\n",
    "\n",
    "### Installing Python, Anaconda & Jupyter Notebooks\n",
    "Hey there! Welcome to a begginer's guide to the world of the most intuitive programming language - Python! Let's get our tools ready.\n",
    "\n",
    "#### Python Installation\n",
    "First things first, we need to install Python. It's not hard:\n",
    "* Go to the Python downloads page at https://www.python.org/downloads/.\n",
    "* Download the latest Python version (Python 3.x.x, the exact version changes all the time).\n",
    "* Run the installer, and make sure to check the box that says \"Add Python 3.x to PATH\" before you click on \"Install Now\", or manually add the Pythin bin folder to your environment and system variables. \n",
    "* That's it!\n",
    "\n",
    "#### Anaconda Installation\n",
    "Next, we gotta install Anaconda. It's a distribution of Python that comes with a lots of nifty libraries and tools:\n",
    "* Head to the Anaconda download page at https://www.anaconda.com/products/distribution#download-section.\n",
    "* Download the Python 3.x version.\n",
    "* Run the installer and follow the instructions.\n",
    "\n",
    "#### Jupyter Notebook\n",
    "Anaconda comes with Jupyter Notebook, an open-source web-app that allows you to create and share documents that contain live code, equations, visualizations, narrative text, and more. To start Jupyter Notebook:\n",
    "* Open Anaconda Navigator (it gets installed with Anaconda).\n",
    "* Click on the Jupyter Notebook icon (pro tip: pin to taskbar for quicker launch).\n",
    "* Code along with a simple, shareable and interactive interface!"
   ]
  },
  {
   "attachments": {},
   "cell_type": "markdown",
   "metadata": {},
   "source": [
    "### Basic terminology and data types of Python\n",
    "Let's look at Python's basic terminology and data types.\n",
    "#### Python's Basic Terminology\n",
    "* Syntax: This refers to the set of rules that define how Python programs are written and interpreted.\n",
    "* Variable: A name that refers to a value.\n",
    "* Function: A reusable piece of code that performs a specific task.\n",
    "* Module: A file containing Python definitions and statements. It allows you to logically organize your Python code.\n",
    "* Library: A collection of modules.\n",
    "\n",
    "#### Data Types\n",
    "* Python has several built-in data types:\n",
    "* Numeric Types: These include integers (int), floating point numbers (float), and complex numbers (complex).\n",
    "* Sequence Types: These include strings (str), lists (list), and tuples (tuple).\n",
    "* Mapping Type: This includes dictionaries (dict).\n",
    "* Boolean Type: This includes True and False.\n",
    "\n",
    "Here's a small piece of code illustrating these data types:"
   ]
  },
  {
   "cell_type": "code",
   "execution_count": null,
   "metadata": {},
   "outputs": [],
   "source": [
    "# Numeric Types\n",
    "x = 10     # int\n",
    "y = 3.14   # float\n",
    "z = 3 + 4j # complex\n",
    "\n",
    "# Sequence Types\n",
    "s = \"hello\"          # str\n",
    "lst = [1, 2, 3, 4]   # list\n",
    "tup = (1, 'a', True) # tuple\n",
    "\n",
    "# Mapping Type\n",
    "d = {'name': 'Alice', 'age': 20} # dict\n",
    "\n",
    "# Boolean Type\n",
    "b1 = True  # True\n",
    "b2 = False # False"
   ]
  },
  {
   "attachments": {},
   "cell_type": "markdown",
   "metadata": {},
   "source": [
    "### A Simple Python Program\n",
    "Welcome back! Now that we've got Python installed and we understand some basic terminology and data types, let's write our first Python program. Let's write a simple program that asks for your name and age, and then prints a message. It's a tradition to start programming with a \"Hello, World!\" program, but let's do something a bit more interactive."
   ]
  },
  {
   "cell_type": "code",
   "execution_count": null,
   "metadata": {},
   "outputs": [],
   "source": [
    "# This is a simple Python program\n",
    "\n",
    "# Ask for user's name\n",
    "name = input(\"What's your name? \")\n",
    "\n",
    "# Ask for user's age\n",
    "age = int(input(\"How old are you?\"))\n",
    "\n",
    "# Calculate birth year\n",
    "import datetime\n",
    "year_of_birth = datetime.datetime.today().year - age\n",
    "\n",
    "# Print a message\n",
    "print(f\"Hello {name}! Since you are {str(age)} years old, that implies you were born about {str(year_of_birth)}.\")"
   ]
  },
  {
   "attachments": {},
   "cell_type": "markdown",
   "metadata": {},
   "source": [
    "In this code:\n",
    "* We're using the input() function to get user input.\n",
    "* We import the datetime library and use its datetime.today() and .year functions to extract the current year\n",
    "* The print() function is used to print the output.\n",
    "* The int() and str() are warpper functions that convert variables to integer ans tring types, respectively.\n",
    "* The f-string (formatted string literal) is used to include variables inside the printed string.\n",
    "\n",
    "That's it! Notice the concise and readable nature of Python. A lot gets with a few lines, and it's intuitive to follow along."
   ]
  }
 ],
 "metadata": {
  "kernelspec": {
   "display_name": "base",
   "language": "python",
   "name": "python3"
  },
  "language_info": {
   "codemirror_mode": {
    "name": "ipython",
    "version": 3
   },
   "file_extension": ".py",
   "mimetype": "text/x-python",
   "name": "python",
   "nbconvert_exporter": "python",
   "pygments_lexer": "ipython3",
   "version": "3.9.12"
  },
  "orig_nbformat": 4
 },
 "nbformat": 4,
 "nbformat_minor": 2
}
