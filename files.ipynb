{
 "cells": [
  {
   "attachments": {},
   "cell_type": "markdown",
   "metadata": {},
   "source": [
    "## Files\n",
    "### Filenames and Absolute/Relative File Paths\n",
    "A file path describes the location of a file in a computer's file system.\n",
    "* Absolute file paths: These provide the complete detail, starting from the root directory to the specific file. For example, /home/user/documents/myfile.txt is an absolute file path in Unix/Linux, and C:\\\\Documents\\\\myfile.txt is an absolute file path in Windows.\n",
    "* Relative file paths: These start from the current working directory. For example, if the current directory is /home/user, the relative path to myfile.txt in the documents directory would simply be documents/myfile.txt.\n",
    "\n",
    "Python's os module provides several functions to work with file paths. You can use os.path.abspath(path) to get the absolute path of a file and os.path.relpath(path) to get the relative path."
   ]
  },
  {
   "cell_type": "code",
   "execution_count": 1,
   "metadata": {},
   "outputs": [],
   "source": [
    "import os\n",
    "\n",
    "# Get the absolute path of a file\n",
    "abs_path = os.path.abspath('documents/myfile.txt')\n",
    "\n",
    "# Get the relative path of a file\n",
    "rel_path = os.path.relpath('/home/user/documents/myfile.txt')"
   ]
  },
  {
   "attachments": {},
   "cell_type": "markdown",
   "metadata": {},
   "source": [
    "### Reading and Writing Plaintext Files\n",
    "Python provides built-in functions for reading and writing files.\n",
    "\n",
    "To open a file, use the open() function. This function takes two arguments: the file path and the mode. The mode can be 'r' for read mode, 'w' for write mode, 'a' for append mode, and 'r+' for both reading and writing.\n",
    "\n",
    "Here's an example of opening a file for reading:"
   ]
  },
  {
   "cell_type": "code",
   "execution_count": null,
   "metadata": {},
   "outputs": [],
   "source": [
    "# Open a file for reading\n",
    "file = open('myfile.txt', 'r')"
   ]
  },
  {
   "attachments": {},
   "cell_type": "markdown",
   "metadata": {},
   "source": [
    "To read the contents of the file, you can use the read() method:"
   ]
  },
  {
   "cell_type": "code",
   "execution_count": null,
   "metadata": {},
   "outputs": [],
   "source": [
    "# Read the file\n",
    "contents = file.read()"
   ]
  },
  {
   "attachments": {},
   "cell_type": "markdown",
   "metadata": {},
   "source": [
    "To write to a file, open it in write mode and use the write() method:To write to a file, open it in write mode and use the write() method:"
   ]
  },
  {
   "cell_type": "code",
   "execution_count": null,
   "metadata": {},
   "outputs": [],
   "source": [
    "# Open a file for writing\n",
    "file = open('myfile.txt', 'w')\n",
    "\n",
    "# Write to the file\n",
    "file.write('Hello, world!')"
   ]
  },
  {
   "attachments": {},
   "cell_type": "markdown",
   "metadata": {},
   "source": [
    "Don't forget to close the file when you're done with it!"
   ]
  },
  {
   "cell_type": "code",
   "execution_count": null,
   "metadata": {},
   "outputs": [],
   "source": [
    "# Close the file\n",
    "file.close()"
   ]
  },
  {
   "attachments": {},
   "cell_type": "markdown",
   "metadata": {},
   "source": [
    "### Copying and Moving Files and Folders\n",
    "Python's shutil module provides functions to copy and move files and folders.\n",
    "\n",
    "Here's an example of copying a file:"
   ]
  },
  {
   "cell_type": "code",
   "execution_count": null,
   "metadata": {},
   "outputs": [],
   "source": [
    "import shutil\n",
    "\n",
    "# Copy a file\n",
    "shutil.copy('myfile.txt', 'mycopy.txt')"
   ]
  },
  {
   "attachments": {},
   "cell_type": "markdown",
   "metadata": {},
   "source": [
    "And here's an example of moving a file:"
   ]
  },
  {
   "cell_type": "code",
   "execution_count": null,
   "metadata": {},
   "outputs": [],
   "source": [
    "# Move a file\n",
    "shutil.move('myfile.txt', 'myfolder/myfile.txt')"
   ]
  },
  {
   "attachments": {},
   "cell_type": "markdown",
   "metadata": {},
   "source": [
    "### Deleting Files\n",
    "\n",
    "Python's os module provides functions to delete files. The os.remove() function deletes a file:"
   ]
  },
  {
   "cell_type": "code",
   "execution_count": null,
   "metadata": {},
   "outputs": [],
   "source": [
    "import os\n",
    "\n",
    "# Delete a file\n",
    "os.remove('myfile.txt')"
   ]
  },
  {
   "attachments": {},
   "cell_type": "markdown",
   "metadata": {},
   "source": [
    "To delete an empty folder, you can use os.rmdir(). To delete a folder and all its contents, you can use shutil.rmtree()."
   ]
  },
  {
   "attachments": {},
   "cell_type": "markdown",
   "metadata": {},
   "source": [
    "### Walking a Directory Tree\n",
    "\n",
    "Walking a directory tree involves visiting a directory and all its subdirectories, recursively. Python's os module provides the os.walk() function for this purpose."
   ]
  },
  {
   "cell_type": "code",
   "execution_count": null,
   "metadata": {},
   "outputs": [],
   "source": [
    "import os\n",
    "\n",
    "# Walk a directory tree\n",
    "for dirpath, dirnames, filenames in os.walk('mydirectory'):\n",
    "    print('Directory:', dirpath)\n",
    "    for filename in filenames:\n",
    "        print('File:', filename)"
   ]
  },
  {
   "attachments": {},
   "cell_type": "markdown",
   "metadata": {},
   "source": [
    "This code prints the names of all directories and files in 'mydirectory' and its subdirectories."
   ]
  }
 ],
 "metadata": {
  "kernelspec": {
   "display_name": "base",
   "language": "python",
   "name": "python3"
  },
  "language_info": {
   "codemirror_mode": {
    "name": "ipython",
    "version": 3
   },
   "file_extension": ".py",
   "mimetype": "text/x-python",
   "name": "python",
   "nbconvert_exporter": "python",
   "pygments_lexer": "ipython3",
   "version": "3.9.12"
  },
  "orig_nbformat": 4
 },
 "nbformat": 4,
 "nbformat_minor": 2
}
