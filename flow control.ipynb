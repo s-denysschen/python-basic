{
 "cells": [
  {
   "attachments": {},
   "cell_type": "markdown",
   "metadata": {},
   "source": [
    "## Flow Control\n",
    "Now we're getting into flow control - i.e. the order in which your code executes. Let's start with an overview and a useful tool: flowcharts.\n",
    "\n",
    "### Flow Control\n",
    "Flow control refers to the order in which the program's code executes. It might go in order, skip over some code, or keep repeating a block of code - this all depends on the flow control statements.\n",
    "### Flowcharts\n",
    "Flowcharts are diagrams that visually represent a process or a program. They're great for planning your program's flow control before you start coding.\n",
    "The most common symbols in flowcharts are:\n",
    "* Oval: Start or end of a program.\n",
    "* Rectangle: A command or operation.\n",
    "* Diamond: A decision or condition.\n",
    "Let's illustrate this with a simple program that checks if a number is positive or negative."
   ]
  },
  {
   "cell_type": "code",
   "execution_count": null,
   "metadata": {},
   "outputs": [],
   "source": [
    "# Start\n",
    "#   |\n",
    "#   V\n",
    "# Read number\n",
    "#   |\n",
    "#   V\n",
    "# Is number >= 0?\n",
    "#   |\n",
    "#   V\n",
    "# Yes     No     \n",
    "# /       \\\n",
    "# Print \"Positive\"  Print \"Negative\"\n",
    "#   |                    /\n",
    "#   V                   /\n",
    "# End  <---------"
   ]
  },
  {
   "attachments": {},
   "cell_type": "markdown",
   "metadata": {},
   "source": [
    "Now, let's implement it in Python!"
   ]
  },
  {
   "attachments": {},
   "cell_type": "markdown",
   "metadata": {},
   "source": [
    "### If, Else, and Elif\n",
    "Let's implement our flowchart with Python's flow control statements - if, else, and elif."
   ]
  },
  {
   "cell_type": "code",
   "execution_count": null,
   "metadata": {},
   "outputs": [],
   "source": [
    "# Ask for a number\n",
    "number = float(input(\"Enter a number: \"))\n",
    "\n",
    "# Check if the number is positive or negative\n",
    "if number > 0:\n",
    "    print(\"Positive\")\n",
    "else:\n",
    "    print(\"Negative\")"
   ]
  },
  {
   "attachments": {},
   "cell_type": "markdown",
   "metadata": {},
   "source": [
    "In this code:\n",
    "\n",
    "* if checks the condition (number > 0). If it's True, it executes the following indented block of code.\n",
    "* else executes its indented block of code if the if condition is False.\n",
    "\n",
    "But what if we want to check for more conditions? That's where elif (else if) comes in. Let's modify our code to also check if the number is zero:"
   ]
  },
  {
   "cell_type": "code",
   "execution_count": null,
   "metadata": {},
   "outputs": [],
   "source": [
    "# Ask for a number\n",
    "number = float(input(\"Enter a number: \"))\n",
    "\n",
    "# Check if the number is positive, negative, or zero\n",
    "if number > 0:\n",
    "    print(\"Positive\")\n",
    "elif number < 0:\n",
    "    print(\"Negative\")\n",
    "else:\n",
    "    print(\"Zero\")"
   ]
  },
  {
   "attachments": {},
   "cell_type": "markdown",
   "metadata": {},
   "source": [
    "In this code, elif checks another condition if the previous conditions are False. If number > 0 and number < 0 are both False, the else block executes."
   ]
  },
  {
   "attachments": {},
   "cell_type": "markdown",
   "metadata": {},
   "source": [
    "While Loops\n",
    "Lecture\n",
    "\n",
    "Hello again, coders! Today we're learning about while loops, which allow a block of code to repeat as long as a condition is True."
   ]
  },
  {
   "cell_type": "code",
   "execution_count": null,
   "metadata": {},
   "outputs": [],
   "source": [
    "# Start from 0\n",
    "number = 0\n",
    "\n",
    "# Keep printing the number while it's less than 5\n",
    "while number < 5:\n",
    "    print(number)\n",
    "    number = number + 1"
   ]
  },
  {
   "attachments": {},
   "cell_type": "markdown",
   "metadata": {},
   "source": [
    "In this code:\n",
    "\n",
    "The while loop checks the condition (number < 5). If it's True, it executes the indented block of code and then checks the condition again.\n",
    "This repeats until the condition is False."
   ]
  },
  {
   "attachments": {},
   "cell_type": "markdown",
   "metadata": {},
   "source": [
    "### For Loops\n",
    "Let's look at for-loops. They're like while loops, but they iterate over a sequence (like a list, tuple, dict, set, or str)."
   ]
  },
  {
   "cell_type": "code",
   "execution_count": null,
   "metadata": {},
   "outputs": [],
   "source": [
    "# A list of names\n",
    "names = [\"Alice\", \"Bob\", \"Charlie\", \"Dave\"]\n",
    "\n",
    "# Print each name using a for loop\n",
    "for name in names:\n",
    "    print(name)"
   ]
  },
  {
   "attachments": {},
   "cell_type": "markdown",
   "metadata": {},
   "source": [
    "In this code:\n",
    "* The for loop goes through each item in names.\n",
    "* For each item, it executes the indented block of code (printing the name)."
   ]
  }
 ],
 "metadata": {
  "kernelspec": {
   "display_name": "base",
   "language": "python",
   "name": "python3"
  },
  "language_info": {
   "codemirror_mode": {
    "name": "ipython",
    "version": 3
   },
   "file_extension": ".py",
   "mimetype": "text/x-python",
   "name": "python",
   "nbconvert_exporter": "python",
   "pygments_lexer": "ipython3",
   "version": "3.9.12"
  },
  "orig_nbformat": 4
 },
 "nbformat": 4,
 "nbformat_minor": 2
}
