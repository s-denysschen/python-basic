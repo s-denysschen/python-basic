{
 "cells": [
  {
   "attachments": {},
   "cell_type": "markdown",
   "metadata": {},
   "source": [
    "## Regular Expressions\n",
    "###B asics of Regular Expressions\n",
    "Regular expressions are a way of describing patterns in string data. They're a powerful tool for manipulating text. Python's re module provides support for regular expressions.\n",
    "\n",
    "First, you'll need to import the re module:"
   ]
  },
  {
   "cell_type": "code",
   "execution_count": 1,
   "metadata": {},
   "outputs": [],
   "source": [
    "import re"
   ]
  },
  {
   "attachments": {},
   "cell_type": "markdown",
   "metadata": {},
   "source": [
    "To create a regex object, use the re.compile() function:"
   ]
  },
  {
   "cell_type": "code",
   "execution_count": 2,
   "metadata": {},
   "outputs": [],
   "source": [
    "# This is a regex object\n",
    "regex = re.compile('abc')"
   ]
  },
  {
   "attachments": {},
   "cell_type": "markdown",
   "metadata": {},
   "source": [
    "This object represents the pattern 'abc'.\n",
    "\n",
    "You can use the search() method to search for this pattern in a string:"
   ]
  },
  {
   "cell_type": "code",
   "execution_count": 3,
   "metadata": {},
   "outputs": [],
   "source": [
    "# Search for the pattern\n",
    "match = regex.search('abcdef')"
   ]
  },
  {
   "attachments": {},
   "cell_type": "markdown",
   "metadata": {},
   "source": [
    "This method returns a match object, which contains information about the match. If the pattern is not found, the method returns None.\n",
    "\n",
    "You can use the group() method of the match object to get the actual matched text:"
   ]
  },
  {
   "cell_type": "code",
   "execution_count": 5,
   "metadata": {},
   "outputs": [
    {
     "name": "stdout",
     "output_type": "stream",
     "text": [
      "abc\n"
     ]
    }
   ],
   "source": [
    "# Print the matched text\n",
    "print(match.group())"
   ]
  },
  {
   "attachments": {},
   "cell_type": "markdown",
   "metadata": {},
   "source": [
    "### Regex Groups and The Pipe Character\n",
    "#### Regex Groups\n",
    "You can define groups in a regex pattern using parentheses. For example, the pattern (abc) defines a group containing the pattern 'abc'."
   ]
  },
  {
   "cell_type": "code",
   "execution_count": 4,
   "metadata": {},
   "outputs": [],
   "source": [
    "# This regex has a group\n",
    "regex = re.compile('(abc)')"
   ]
  },
  {
   "attachments": {},
   "cell_type": "markdown",
   "metadata": {},
   "source": [
    "The group() method of the match object can take an argument to return the text of a specific group. group(0) returns the entire match, group(1) returns the first group, and so on."
   ]
  },
  {
   "attachments": {},
   "cell_type": "markdown",
   "metadata": {},
   "source": [
    "#### The Pipe Character\n",
    "\n",
    "The pipe character | represents \"or\". It matches either the pattern before it or the pattern after it."
   ]
  },
  {
   "cell_type": "code",
   "execution_count": null,
   "metadata": {},
   "outputs": [],
   "source": [
    "# This regex matches either 'abc' or 'def'\n",
    "regex = re.compile('abc|def')"
   ]
  },
  {
   "attachments": {},
   "cell_type": "markdown",
   "metadata": {},
   "source": [
    "This regex matches either 'abc' or 'def'."
   ]
  },
  {
   "attachments": {},
   "cell_type": "markdown",
   "metadata": {},
   "source": [
    "### Repetition in Regex Patterns and Greedy/Nongreedy Matching\n",
    "#### Repetition in Regex Patterns\n",
    "There are several characters that can represent repetition:\n",
    "* *: Zero or more times.\n",
    "* +: One or more times.\n",
    "* ?: Zero or one time.\n",
    "* {n}: Exactly n times.\n",
    "* {n,}: n or more times.\n",
    "* {,m}: m or fewer times.\n",
    "* {n,m}: Between n and m times.\n",
    "\n",
    "Here's an example:"
   ]
  },
  {
   "cell_type": "code",
   "execution_count": null,
   "metadata": {},
   "outputs": [],
   "source": [
    "# This regex matches one or more 'a's\n",
    "regex = re.compile('a+')"
   ]
  },
  {
   "attachments": {},
   "cell_type": "markdown",
   "metadata": {},
   "source": [
    "#### Greedy and Nongreedy Matching\n",
    "\n",
    "By default, Python's regex are greedy: they match the longest possible string. You can make them nongreedy (matching the shortest possible string) by following the repetition character with a ?."
   ]
  },
  {
   "cell_type": "code",
   "execution_count": null,
   "metadata": {},
   "outputs": [],
   "source": [
    "# This regex matches as few 'a's as possible\n",
    "regex = re.compile('a+?')"
   ]
  },
  {
   "attachments": {},
   "cell_type": "markdown",
   "metadata": {},
   "source": [
    "### Regex Character Classes and the findall() Method\n",
    "#### Regex Character Classes\n",
    "A character class matches any character in the class. Here are some predefined character classes:\n",
    "\n",
    "* \\d: Any digit (0-9).\n",
    "* \\D: Any non-digit.\n",
    "* \\s: Any whitespace character.\n",
    "* \\S: Any non-whitespace character.\n",
    "* \\w: Any alphanumeric character (a-z, A-Z, 0-9, _).\n",
    "* \\W: Any non-alphanumeric character."
   ]
  },
  {
   "cell_type": "code",
   "execution_count": null,
   "metadata": {},
   "outputs": [],
   "source": [
    "# This regex matches any digit\n",
    "regex = re.compile('\\d')"
   ]
  },
  {
   "attachments": {},
   "cell_type": "markdown",
   "metadata": {},
   "source": [
    "#### The findall() Method\n",
    "\n",
    "The findall() method returns all matches of a pattern in a string, as a list of strings. The strings will be in the order they were found."
   ]
  },
  {
   "cell_type": "code",
   "execution_count": null,
   "metadata": {},
   "outputs": [],
   "source": [
    "# Find all matches\n",
    "matches = regex.findall('123 abc 456 def')"
   ]
  },
  {
   "attachments": {},
   "cell_type": "markdown",
   "metadata": {},
   "source": [
    "### Regex Dot-Star and The Caret/Dollar Characters\n",
    "#### The Dot-Star\n",
    "In regex, the dot . matches any character except a newline. The star * matches zero or more repetitions of the preceding character. Together, .* matches any number of any characters."
   ]
  },
  {
   "cell_type": "code",
   "execution_count": null,
   "metadata": {},
   "outputs": [],
   "source": [
    "# This regex matches any number of any characters\n",
    "regex = re.compile('.*')"
   ]
  },
  {
   "attachments": {},
   "cell_type": "markdown",
   "metadata": {},
   "source": [
    "#### The Caret and Dollar Characters\n",
    "\n",
    "The caret ^ matches the start of the string, and the dollar $ matches the end of the string."
   ]
  },
  {
   "cell_type": "code",
   "execution_count": null,
   "metadata": {},
   "outputs": [],
   "source": [
    "# This regex matches a string that starts with 'abc' and ends with 'def'\n",
    "regex = re.compile('^abc.*def$')"
   ]
  },
  {
   "attachments": {},
   "cell_type": "markdown",
   "metadata": {},
   "source": [
    "### Regex sub() Method and Verbose Mode\n",
    "#### The sub() Method\n",
    "The sub() method replaces all matches of a pattern with a replacement string:"
   ]
  },
  {
   "cell_type": "code",
   "execution_count": null,
   "metadata": {},
   "outputs": [],
   "source": [
    "# Replace all matches\n",
    "regex = re.compile('\\d')\n",
    "new_string = regex.sub('X', '123 abc 456 def')"
   ]
  },
  {
   "attachments": {},
   "cell_type": "markdown",
   "metadata": {},
   "source": [
    "#### Verbose Mode\n",
    "\n",
    "Verbose mode allows you to write regex that's easier to read and understand. You can add comments and whitespace to your regex."
   ]
  },
  {
   "cell_type": "code",
   "execution_count": null,
   "metadata": {},
   "outputs": [],
   "source": [
    "# This regex is in verbose mode\n",
    "regex = re.compile('''\n",
    "    ^    # Start of the string\n",
    "    abc  # 'abc'\n",
    "    .*   # Any number of any characters\n",
    "    def  # 'def'\n",
    "    $    # End of the string\n",
    "''', re.VERBOSE)"
   ]
  }
 ],
 "metadata": {
  "kernelspec": {
   "display_name": "base",
   "language": "python",
   "name": "python3"
  },
  "language_info": {
   "codemirror_mode": {
    "name": "ipython",
    "version": 3
   },
   "file_extension": ".py",
   "mimetype": "text/x-python",
   "name": "python",
   "nbconvert_exporter": "python",
   "pygments_lexer": "ipython3",
   "version": "3.9.12"
  },
  "orig_nbformat": 4
 },
 "nbformat": 4,
 "nbformat_minor": 2
}
