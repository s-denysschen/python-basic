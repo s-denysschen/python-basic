{
 "cells": [
  {
   "attachments": {},
   "cell_type": "markdown",
   "metadata": {},
   "source": [
    "## Web scraping\n",
    "### The webbrowser module\n",
    "Python's webbrowser module provides a high-level interface to allow displaying web-based documents to users. It comes pre-installed with Python, so you don't need to install it.\n",
    "\n",
    "One of the simplest tasks you can do with the webbrowser module is opening a web page in a new browser window:"
   ]
  },
  {
   "cell_type": "code",
   "execution_count": null,
   "metadata": {
    "vscode": {
     "languageId": "plaintext"
    }
   },
   "outputs": [],
   "source": [
    "import webbrowser\n",
    "\n",
    "# Open a web page\n",
    "webbrowser.open('https://www.python.org')"
   ]
  },
  {
   "attachments": {},
   "cell_type": "markdown",
   "metadata": {},
   "source": [
    "This code launches a web browser to the Python homepage."
   ]
  },
  {
   "attachments": {},
   "cell_type": "markdown",
   "metadata": {},
   "source": [
    "### Downloading from the Web with the Requests Module\n",
    "Python's requests module allows you to send HTTP requests. It simplifies the process of working with HTTP requests and handles the complexities of HTTP protocols behind the scenes.\n",
    "\n",
    "To use the requests module, you first need to install it:"
   ]
  },
  {
   "cell_type": "code",
   "execution_count": null,
   "metadata": {
    "vscode": {
     "languageId": "plaintext"
    }
   },
   "outputs": [],
   "source": [
    "pip install requests"
   ]
  },
  {
   "attachments": {},
   "cell_type": "markdown",
   "metadata": {},
   "source": [
    "Here's an example of downloading a web page:"
   ]
  },
  {
   "cell_type": "code",
   "execution_count": null,
   "metadata": {
    "vscode": {
     "languageId": "plaintext"
    }
   },
   "outputs": [],
   "source": [
    "import requests\n",
    "\n",
    "# Download a web page\n",
    "response = requests.get('https://www.python.org')\n",
    "\n",
    "# Print the content of the page\n",
    "print(response.text)"
   ]
  },
  {
   "attachments": {},
   "cell_type": "markdown",
   "metadata": {},
   "source": [
    "This code downloads the Python home page and prints its HTML content."
   ]
  },
  {
   "attachments": {},
   "cell_type": "markdown",
   "metadata": {},
   "source": [
    "### Parsing HTML with the Beautiful Soup Module\n",
    "\n",
    "Beautiful Soup is a Python library for parsing HTML and XML documents. It creates a parse tree from page source code that can be used to extract data in a hierarchical and more readable manner.\n",
    "\n",
    "To use Beautiful Soup, you first need to install it:"
   ]
  },
  {
   "cell_type": "code",
   "execution_count": null,
   "metadata": {
    "vscode": {
     "languageId": "plaintext"
    }
   },
   "outputs": [],
   "source": [
    "pip install beautifulsoup4"
   ]
  },
  {
   "attachments": {},
   "cell_type": "markdown",
   "metadata": {},
   "source": [
    "Here's an example of parsing an HTML document:"
   ]
  },
  {
   "cell_type": "code",
   "execution_count": null,
   "metadata": {
    "vscode": {
     "languageId": "plaintext"
    }
   },
   "outputs": [],
   "source": [
    "from bs4 import BeautifulSoup\n",
    "\n",
    "# Parse an HTML document\n",
    "soup = BeautifulSoup('<html><body><h1>Hello, world!</h1></body></html>', 'html.parser')\n",
    "\n",
    "# Find the h1 tag\n",
    "h1_tag = soup.find('h1')\n",
    "\n",
    "# Print the text of the h1 tag\n",
    "print(h1_tag.text)"
   ]
  },
  {
   "attachments": {},
   "cell_type": "markdown",
   "metadata": {},
   "source": [
    "This code parses an HTML document, finds the h1 tag, and prints its text."
   ]
  },
  {
   "attachments": {},
   "cell_type": "markdown",
   "metadata": {},
   "source": [
    "### Controlling the Browser with the Selenium Module\n",
    "Selenium is a powerful tool for controlling a web browser through the program. It's functional for all browsers, works on all major OS and its scripts are written in various languages i.e Python, Java, C#, etc.\n",
    "\n",
    "To use Selenium, you first need to install it:"
   ]
  },
  {
   "cell_type": "code",
   "execution_count": null,
   "metadata": {
    "vscode": {
     "languageId": "plaintext"
    }
   },
   "outputs": [],
   "source": [
    "pip install selenium"
   ]
  },
  {
   "attachments": {},
   "cell_type": "markdown",
   "metadata": {},
   "source": [
    "In order to have a working setup, you will also need a driver, which is a separate executable that Selenium WebDriver uses to control the browser. The driver depends on the browser you want to use. For example, if you want to use Chrome, you need the ChromeDriver.\n",
    "\n",
    "Here's an example of opening a web page with Selenium:"
   ]
  },
  {
   "cell_type": "code",
   "execution_count": null,
   "metadata": {
    "vscode": {
     "languageId": "plaintext"
    }
   },
   "outputs": [],
   "source": [
    "from selenium import webdriver\n",
    "\n",
    "# Create a new instance of the Firefox driver\n",
    "driver = webdriver.Chrome()\n",
    "\n",
    "# Go to a web page\n",
    "driver.get('https://www.python.org')\n",
    "\n",
    "# Find the element that's name attribute is q (the Google search box)\n",
    "input_element = driver.find_element_by_name('q')\n",
    "\n",
    "# Type in the search\n",
    "input_element.send_keys('Python')\n",
    "\n",
    "# Submit the form (although google automatically searches now without submitting)\n",
    "input_element.submit()\n",
    "\n",
    "# Close the browser\n",
    "driver.quit()"
   ]
  },
  {
   "attachments": {},
   "cell_type": "markdown",
   "metadata": {},
   "source": [
    "This code opens the Python home page in Google Chrome, types 'Python' in the search box, and submits the search. You need to have the ChromeDriver executable installed and in your system's PATH for this to work. You can download ChromeDriver from the ChromeDriver download page and add its location to your system's PATH."
   ]
  }
 ],
 "metadata": {
  "language_info": {
   "name": "python"
  },
  "orig_nbformat": 4
 },
 "nbformat": 4,
 "nbformat_minor": 2
}
